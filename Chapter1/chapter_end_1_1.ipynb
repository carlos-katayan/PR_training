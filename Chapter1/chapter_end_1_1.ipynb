{
 "cells": [
  {
   "cell_type": "markdown",
   "metadata": {},
   "source": [
    "# 第1章章末問題 回答"
   ]
  },
  {
   "cell_type": "markdown",
   "metadata": {},
   "source": [
    "## 問題1.1\n",
    "・Aさんは「絶対に1しか出ない」→常に1にかけ続ける→常に1/6の確率\n",
    "\n",
    "・Bさんは「均等に1/6の確率だよ」→これまで1,2,3,4,5ばっかり出ているから次は6が出るかもしれない…　\n",
    "\n",
    "・Bさんは過去のデータに左右されて次の目を選ぶので実は1/6以下の確率になっている？\n",
    "\n",
    "→勝つのはAさん？　　\n",
    "\n",
    "### Pythonの練習も兼ねてコードを書いて検証してみる\n",
    "#### ギャンブルのルール\n",
    "・サイコロは1~6の目がランダムに出る\n",
    "\n",
    "・目を当てた場合→掛け金の6倍の賞金を獲得\n",
    "\n",
    "・目を外した場合→掛け金を失う\n",
    "\n",
    "#### AさんとBさんのアルゴリズム\n",
    "・Aさんは1だけを狙い居続ける\n",
    "\n",
    "・Bさんは出目の出現した回数が最も小さい出目を狙う\n",
    "\n",
    "・Bさんは出現回数が最小の出目が複数あるときはより小さい出目を狙う(例：3と５だった場合は３)\n"
   ]
  },
  {
   "cell_type": "code",
   "execution_count": 119,
   "metadata": {
    "scrolled": false
   },
   "outputs": [
    {
     "name": "stdout",
     "output_type": "stream",
     "text": [
      "10回目時点での出目の確率は左から1,2,3,4,5,6で[0.  0.2 0.2 0.  0.3 0.3]\n",
      "10回目時点での獲得賞金は左からAさん, Bさんで[-1000 -1000]\n",
      "100回目時点での出目の確率は左から1,2,3,4,5,6で[0.16 0.22 0.15 0.16 0.16 0.15]\n",
      "100回目時点での獲得賞金は左からAさん, Bさんで[1200 3300]\n",
      "1000回目時点での出目の確率は左から1,2,3,4,5,6で[0.155 0.163 0.185 0.164 0.175 0.158]\n",
      "1000回目時点での獲得賞金は左からAさん, Bさんで[ 8500 21100]\n",
      "10000回目時点での出目の確率は左から1,2,3,4,5,6で[0.1617 0.1692 0.1672 0.1704 0.1702 0.1613]\n",
      "10000回目時点での獲得賞金は左からAさん, Bさんで[131900 143800]\n"
     ]
    },
    {
     "data": {
      "text/plain": [
       "Text(0.5, 1.0, 'n=10000')"
      ]
     },
     "execution_count": 119,
     "metadata": {},
     "output_type": "execute_result"
    },
    {
     "data": {
      "image/png": "[encoded data removed]",
      "text/plain": [
       "<Figure size 720x576 with 4 Axes>"
      ]
     },
     "metadata": {
      "needs_background": "light"
     },
     "output_type": "display_data"
    }
   ],
   "source": [
    "%matplotlib inline\n",
    "import random\n",
    "import numpy as np\n",
    "import matplotlib.pyplot as plt\n",
    "\n",
    "dice_count = [0,0,0,0,0,0] #出目1~6のカウンタ\n",
    "\n",
    "A_money = B_money = 0 #AとBの獲得賞金初期化\n",
    "A_choice = 1;                     #Aの狙う出目(固定)\n",
    "B_choice = 1;                     #Bの狙う出目(初期値)\n",
    "\n",
    "n = 10000                          #ギャンブルの回数\n",
    "m = 100                             #掛け金\n",
    "r = 6                                   #倍率\n",
    "\n",
    "height = [0,0,0,0]            #グラフの縦軸配列\n",
    "x = 0                                   #グラフの縦軸インクリメント用変数\n",
    "\n",
    "for i in range(n):\n",
    "    A = random.randint(1, 6)\n",
    "    if A == 1:\n",
    "        dice_count[0] += 1\n",
    "    elif A == 2:\n",
    "        dice_count[1] += 1\n",
    "    elif A == 3:\n",
    "        dice_count[2] += 1\n",
    "    elif A == 4:\n",
    "        dice_count[3] += 1\n",
    "    elif A == 5:\n",
    "        dice_count[4] += 1\n",
    "    elif A == 6:\n",
    "        dice_count[5] += 1\n",
    "        \n",
    "    if A == A_choice and A==B_choice: \n",
    "        A_money += (m*r)\n",
    "        B_money += (m*r)\n",
    "    \n",
    "    elif A == A_choice:\n",
    "        A_money += (m*r)\n",
    "        B_money += -m\n",
    "        \n",
    "    elif A == B_choice:\n",
    "        A_money += -m\n",
    "        B_money += (m*r)\n",
    "        \n",
    "    else:\n",
    "        A_money += -m\n",
    "        B_money += -m\n",
    "        pass\n",
    "     \n",
    "    min_dice = np.argmin(dice_count)+1\n",
    "   #print(\"出目は\"+str(A)+\"出た回数が最小の出目は\"+str(min_dice))\n",
    "    \n",
    "    if not B_choice == min_dice:\n",
    "        B_choice = min_dice\n",
    "    #print(\"Bさんが次に狙うのは\"+str(B_choice))\n",
    "    \n",
    "    if i == (n/1000)-1 or i == (n/100)-1 or i == (n/10)-1 or i==n-1:\n",
    "        left = np.array([1,2,3,4,5,6])\n",
    "        height[x] = np.array(dice_count)\n",
    "        rate = height[x]/(i+1)\n",
    "        print(str(i+1) +\"回目時点での出目の確率は左から1,2,3,4,5,6で\"+ str(rate))\n",
    "        total_money = np.array([A_money, B_money])\n",
    "        print(str(i+1) +\"回目時点での獲得賞金は左からAさん, Bさんで\"+str(total_money))\n",
    "        x += 1\n",
    "\n",
    "fig,axes = plt.subplots(nrows=2,ncols=2,figsize=(10,8))\n",
    "axes[0,0].bar(left, height[0], linewidth=2)\n",
    "axes[0,0].set_title(\"n=\"+str(n/1000))\n",
    "axes[0,1].bar(left, height[1], linewidth=2)\n",
    "axes[0,1].set_title(\"n=\"+str(n/100))\n",
    "axes[1,0].bar(left, height[2], linewidth=2)\n",
    "axes[1,0].set_title(\"n=\"+str(n/10))\n",
    "axes[1,1].bar(left, height[3], linewidth=2)\n",
    "axes[1,1].set_title(\"n=\"+str(n))\n"
   ]
  },
  {
   "cell_type": "markdown",
   "metadata": {},
   "source": [
    "### コードを書いて見た結果\n",
    "・当然だけど試行回数が増すごとに各目の確率は1/6へと収束する\n",
    "\n",
    "・コードを実行し直すたびに最終的なAさんとBさんの獲得賞金は変化する\n",
    "\n",
    "**20回コードを実行してみたところ、Aさん11勝、Bさん8勝、引き分け１回**\n",
    "\n",
    "・Aさんの獲得賞金は600＊(10000/6)-100＊(10000＊5/6)=1000200-833300=166900円の周辺に収束するはず\n",
    "→だいたいそんなもんだった\n",
    "\n",
    "・Bさんの獲得賞金は振れ幅が結構ある。２０回コードを実行し直した中では下は8500円から上は220000円まで\n",
    "\n",
    "### 考察\n",
    "・試行回数が増えれば出目の確率は均等に近づくので、一定の賞金がほしければAさんの賭け方が適していそう\n",
    "\n",
    "・一方で試行回数が少ない間は出ていない目を狙っていくほうが最終的な賞金をより手に入れることができるかもしれない\n",
    "\n",
    "### 感想\n",
    "・２０回分くらいしかコードを回していないのでもっと回数こなせば違う結果になるかもしれない\n",
    "\n",
    "・そういうコードを書きたかったが時間がなかった・・・\n",
    "\n",
    "・Pythonで初めてちゃんとしたコードを書いたがCと違うところで戸惑うことが多かった。ポインタとかPythonではどう使うのかよくわからん\n",
    "\n",
    "・グラフをすぐに出力できるのは便利\n"
   ]
  },
  {
   "cell_type": "code",
   "execution_count": null,
   "metadata": {},
   "outputs": [],
   "source": []
  }
 ],
 "metadata": {
  "kernelspec": {
   "display_name": "Python 3",
   "language": "python",
   "name": "python3"
  },
  "language_info": {
   "codemirror_mode": {
    "name": "ipython",
    "version": 3
   },
   "file_extension": ".py",
   "mimetype": "text/x-python",
   "name": "python",
   "nbconvert_exporter": "python",
   "pygments_lexer": "ipython3",
   "version": "3.7.4"
  }
 },
 "nbformat": 4,
 "nbformat_minor": 2
}
